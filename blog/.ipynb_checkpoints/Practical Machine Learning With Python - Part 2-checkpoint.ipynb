{
 "cells": [
  {
   "cell_type": "markdown",
   "metadata": {},
   "source": [
    "# Practical Machine Learning With Python - Part 2"
   ]
  },
  {
   "cell_type": "markdown",
   "metadata": {},
   "source": [
    "<p style=\"font-family:verdana; font-size:15px\">In the <a href=\"https://savan77.github.io/blog/machine-learning-part1.html\"> previous post</a>, I explained what is machine learning, types of machine learning, linear regression, logistic regression, various issues that we need to consider such as overfitting and at last I explained what really learning is in machine learning. In <a href=\"https://savan77.github.io/blog/lab-machine-learning-part1.html\">lab session</a>, I explained how to implement algorithms and concepts that I explained in theory session using Python.</p>\n",
    "<p style=\"font-family:verdana; font-size:15px;\">\n",
    "In this session, I will explain some easy yet powerful machine learning algorithms such as <b> naive bayes, support vector machine and decision trees</b>. From now onwards, I will not make seperate part for theory and lab session. Instead, I will integrate theory with code in jupyter notebook. If you are unfamiliar with Jupyter notebooks, please go through <a href=\"http://jupyter-notebook.readthedocs.io/en/latest/examples/Notebook/Notebook%20Basics.html\"> Jupyter Notebook Basics Guide </a>.</p>"
   ]
  },
  {
   "cell_type": "markdown",
   "metadata": {},
   "source": [
    "## Naive Bayes"
   ]
  },
  {
   "cell_type": "markdown",
   "metadata": {
    "collapsed": true
   },
   "source": [
    "<p style=\"font-family:verdana; font-size:15px\"><b> Naive Bayes </b> is a supervised learning algorithm which is based on <a href=\"https://en.wikipedia.org/wiki/Bayes%27_theorem\"><b> bayes theorem </b></a>. Naive Bayes is a widely used classification algorithm. Here, word <b> naive</b> comes from the assumption of independence among features. That is, if we have a feature vector (input vector) (x<sub>1</sub>, x<sub>2</sub>,...,x<sub>n</sub>), x<sub>i</sub><sup>'</sup>s are conditionally independent given <i>y</i>. We can write bayes theorem as follows :<br><br>\n",
    "\n",
    "\n",
    "\\begin{align}\n",
    "P( y | x ) = \\frac{P(y)P(x | y)}{P(x)}\n",
    "\\end{align}\n",
    "\n",
    "where,<br><br>\n",
    "P(x) is the prior probability of a feature.<br>\n",
    "P(x | y) is the probability of a feature given target. It's also known as likelihood.<br>\n",
    "P(y) is the prior probability of a target or class in case of classification.<br>\n",
    "p(y | x) is the posterior probability of target given feature.<br>\n",
    "<br>\n",
    "when we have more than one feature then we can rewrite this equation as :<br><br>\n",
    "\n",
    "\\begin{align}\n",
    "P( y | x_1,...,x_n) = \\frac{P(y)P(x_1,...,x_n | y)}{P(x_1,...,x_n)}\n",
    "\\end{align}\n",
    "</p>"
   ]
  },
  {
   "cell_type": "markdown",
   "metadata": {},
   "source": [
    "<p style=\"font-family:verdana; font-size:15px\">Consider an example for spam classification, our input or feature vector will be a set of words and output will be spam or ham (1 or 0). In naive bayes, we calculate probability of each class(spam or ham) given feature vector and class with maximum probability becomes our output. Our task is to solve above equation for each class. Now, let us dig deeper into this equation and see how we can use this equation to find the probability of each class.<br>\n",
    "Using the naive bayes assumption we can write :<br><br>\n",
    "\\begin{align}\n",
    "P(x_i | y, x_1,..,x_{i-1},x{i+1},..,x_n) = P(x_i | y)\n",
    "\\end{align}\n",
    "\n",
    "We can rewrite bayes theorem as follows : \n",
    "<br><br>\n",
    "\\begin{align}\n",
    "P( y | x_1,...,x_n) = \\frac{P(y)\\prod_{i=1}^{n}P(x_i| y)}{P(x_1,...,x_n)}\n",
    "\\end{align}<br><br>\n",
    "\n",
    "but we know that <b> P(x<sub>1</sub>, x<sub>2</sub>, .., x<sub>n</sub>)</b> is constant given the input. So we can say that\n",
    "<br><br>\n",
    "\n",
    "\\begin{align}\n",
    "P(y|x_1,...,x_n) \\propto P(y) \\prod_{i=1}^{n} P(x_i|y)\\end{align}\n",
    "<br>\n",
    "For classification rule (where we want to find the class with maximum probability), we can write equation as :\n",
    "<br><br>\n",
    "\\begin{align}\n",
    "\\hat{y} = \\arg\\max_y P(y) \\prod_{i=1}^{n} P(x_i|y)\n",
    "\\end{align}\n",
    "<br>\n",
    "Now, we can use <a href=\"https://en.wikipedia.org/wiki/Maximum_a_posteriori_estimation\"> Maximum a Posteriori</a> estimation to estimate both P(y) and P(x<sub>i</sub>|y). Here, P(y) = samples with class y / total number of sample, in other words, frequency of class y in training data. <br><br>\n",
    "\n",
    "We can make several variants of naive bayes by using different distribution for P(x<sub>i</sub>|y). Widely used Naive Bayes variants are <a href=\"https://en.wikipedia.org/wiki/Normal_distribution\"> Gaussian Naive Bayes </a>, <a href=\"https://en.wikipedia.org/wiki/Multinomial_distribution\"> Multinomial Naive Bayes </a> and <a href=\"https://en.wikipedia.org/wiki/Bernoulli_distribution\"> Bernoulli Naive Bayes </a>.\n",
    "\n",
    "Now, we will implement Naive Bayes algorithm in scikit-learn.</p>"
   ]
  },
  {
   "cell_type": "code",
   "execution_count": 1,
   "metadata": {
    "collapsed": false
   },
   "outputs": [
    {
     "name": "stdout",
     "output_type": "stream",
     "text": [
      "0.96\n",
      "[1]\n"
     ]
    },
    {
     "name": "stderr",
     "output_type": "stream",
     "text": [
      "C:\\Users\\savan77\\Anaconda3\\lib\\site-packages\\sklearn\\utils\\validation.py:395: DeprecationWarning: Passing 1d arrays as data is deprecated in 0.17 and will raise ValueError in 0.19. Reshape your data either using X.reshape(-1, 1) if your data has a single feature or X.reshape(1, -1) if it contains a single sample.\n",
      "  DeprecationWarning)\n"
     ]
    }
   ],
   "source": [
    "#we will use iris dataset\n",
    "from sklearn.datasets import load_iris\n",
    "from sklearn.naive_bayes import GaussianNB\n",
    "import numpy as np\n",
    "\n",
    "#load the dataset\n",
    "data = load_iris()\n",
    "\n",
    "model = GaussianNB()\n",
    "model.fit(data.data, data.target)\n",
    "\n",
    "#evalaute\n",
    "print(model.score(data.data, data.target))\n",
    "\n",
    "#predict\n",
    "print(model.predict([4.2, 3, 0.9, 2.1])) #0 = setosa,1 = versicolor, and 2 = virginica"
   ]
  },
  {
   "cell_type": "code",
   "execution_count": 2,
   "metadata": {
    "collapsed": false
   },
   "outputs": [],
   "source": [
    "#sentiment analysis"
   ]
  },
  {
   "cell_type": "code",
   "execution_count": null,
   "metadata": {
    "collapsed": false
   },
   "outputs": [],
   "source": []
  },
  {
   "cell_type": "markdown",
   "metadata": {},
   "source": [
    "# Support Vector Machines"
   ]
  },
  {
   "cell_type": "markdown",
   "metadata": {
    "collapsed": true
   },
   "source": [
    "<p style=\"font-family:verdana; font-size:15px\"><b> Support Vector Machines</b> are supervised learning models which can be used for both classification and regression. SVMs are among the best supervised learning algorithms. It is effective in high dimensional space and it is memory efficient as well.\n",
    "\n",
    "Consider a binary classification problem, where the task is to assign a one of the two labels to given input. We plot each data item as a point in n-dimensional space as follows:</p>\n",
    "\n",
    "![title](./images/svm1.png)"
   ]
  },
  {
   "cell_type": "markdown",
   "metadata": {},
   "source": [
    "<p style=\"font-family:verdana; font-size:15px\">We can perform classification by finding the hyperplane that differentiate the two classes very well. As you can see in the above image, we can draw m number of hyperplanes. How do we find the best one? We can find the optimal hyperplane by maximizing the <b> margin </b>.</p>\n",
    "![title](./images/svm2.png)"
   ]
  },
  {
   "cell_type": "markdown",
   "metadata": {},
   "source": [
    "<p style=\"font-family:verdana; font-size:15px\">We define margin as a twice of the distance between the hyperplane and the nearest sample points to the hyperplane. This points are known as <b>support vector</b>. They known as support vectors because they hold up optimal hyperplane. In above figure, support vectors are represented with filled color.\n",
    "\n",
    "Consider a first hyperplane in figure-1 which touches the two sample points(red). Although it classifies all the examples correctly, but the problem is our hyperplane is close to the so many sample points and other red examples might fall on the other side of the hyperplane. This problem can be solved by choosing a hyperplane which is farthest away from the sample points. It turns out that this type of model generalize very well. This optimal hyperplane is also known as <b> maximum margin separator</b>.</p>"
   ]
  },
  {
   "cell_type": "markdown",
   "metadata": {
    "collapsed": true
   },
   "source": [
    "<p style=\"font-family:verdana; font-size:15px\">We know that we want hyperplane with maximum margin and we also discussed why we want this. Now, let us learn how to find this optimal hyperplane? Before that, please note in case of SVMs, we represent class labels with +1 and -1 instead of 0 and 1(Binary Valued Labels). Here, we represent each hyperplane, the optimal one, negative and positive hyperplane(dashed lines) with linear equations - w<sup>T</sup>x + b = 0, w<sup>T</sup>x+b = -1 and w<sup>T</sup>x + b = +1 respectively. The left most dashed line is negative hyperplane. We represent red points with x<sub>-</sub> and blue points with x<sub>+</sub>. To derive the equation for a margin let us substract equations of negative and positive hyperplane from each other.</p>"
   ]
  },
  {
   "cell_type": "markdown",
   "metadata": {},
   "source": [
    "<p style=\"font-family:verdana; font-size:15px\">\\begin{align}\n",
    "w^T(x_+ - x_-) = 2\n",
    "\\end{align}<br><br>\n",
    "\n",
    "Adding length of the vector w to normalize this,<br>\n",
    "\n",
    "\\begin{align}\n",
    "\\frac{w^T(x_+ - x_-)}{||w||} = \\frac{2}{||w||} \n",
    "\\end{align}\n",
    "<br><br>\n",
    "where, <b> 2/||w||</b> is the margin.\n",
    "\n",
    "Now the objective of the SVM becomes maximization of the margin under the constraint that samples are classified correctly.\n",
    "\\begin{align}\n",
    "w^T x^{(i)} + b >= 1  \\hspace{1cm} if \\hspace{1cm} y^{(i)} = +1 \\newline\n",
    "w^T x^{(i)} + b < -1  \\hspace{1cm} if \\hspace{1cm} y^{(i)} = -1\n",
    "\\end{align}\n",
    "<br><br>\n",
    "This can also be written more compractly as \n",
    "\\begin{align}\n",
    "y^{(i)} ( w_0 + w^T x^{(i)}) >= 1 \\forall_i\n",
    "\\end{align}</p>"
   ]
  },
  {
   "cell_type": "markdown",
   "metadata": {},
   "source": [
    "<p style=\"font-family:verdana; font-size:15px\">In practice, it is easier to minimize the below given reciprocal term \\begin{align} \\frac{1}{2} ||w||^2 \\end{align}. This is the quadratic programming problem with the linear constraint.</p>"
   ]
  },
  {
   "cell_type": "markdown",
   "metadata": {},
   "source": [
    "<p style=\"font-family:verdana; font-size:15px\">In the case of inherently noisy data, we may not want a linear hyperplane in high-dimensional space. Rather, we'd like a decision surface in low dimensional space that does not clearly seperate the classes, but reflects the reality of the noisy data. That is possible with the <b> soft margin classifier</b>, which allows examples to fall on the wrong side of the decision boundary, but assigns them a penalty proportional to the distance required to move them back on the correct side. In soft margin classifier, we add slack variables to the linear constraint.<br><br>\n",
    "\\begin{align}\n",
    "y_{(i)} (w^T x_i + b ) >= 1 - \\xi \\hspace{1cm} for \\hspace{1cm} i = 1,..,N\n",
    "\\end{align}\n",
    "\n",
    "Now, our objective to minimize is<br><br>\n",
    "\\begin{align}\n",
    "\\frac{1}{2} ||w||^2 + C (\\sum_{i} \\xi^{(i)})\n",
    "\\end{align}\n",
    "\n",
    "C is the <b> regularization </b> parameter. Small C allows constraint to be easily ignored and results in large margin whereas large C makes constraints hard to ignore and results in narrow margin. This is still a quadratic optimization problem and there is a unique minimum. \n",
    "\n",
    "Now let us implement linear SVM classifier in Python using sklearn. We will use iris dataset</p>"
   ]
  },
  {
   "cell_type": "code",
   "execution_count": 3,
   "metadata": {
    "collapsed": false
   },
   "outputs": [],
   "source": [
    "#import the dependencies\n",
    "from sklearn.datasets import load_iris\n",
    "from sklearn.svm import SVC\n",
    "#load dataset\n",
    "dataset = load_iris()\n",
    "data = dataset.data\n",
    "target = dataset.target"
   ]
  },
  {
   "cell_type": "markdown",
   "metadata": {},
   "source": [
    "    In machine learning, we always need to do some preprocessing to make our dataset suitable for the learning algorithm. I will introduce few preprocessing techniques as we go through various algorithms. Here, we will perform feature scaling which is required for optimal performance. Feature scaling is used to standardize the range of features of data."
   ]
  },
  {
   "cell_type": "code",
   "execution_count": 4,
   "metadata": {
    "collapsed": false
   },
   "outputs": [
    {
     "data": {
      "text/plain": [
       "array([[ -9.00681170e-01,   1.03205722e+00,  -1.34127240e+00,\n",
       "         -1.31297673e+00],\n",
       "       [ -1.14301691e+00,  -1.24957601e-01,  -1.34127240e+00,\n",
       "         -1.31297673e+00],\n",
       "       [ -1.38535265e+00,   3.37848329e-01,  -1.39813811e+00,\n",
       "         -1.31297673e+00],\n",
       "       [ -1.50652052e+00,   1.06445364e-01,  -1.28440670e+00,\n",
       "         -1.31297673e+00],\n",
       "       [ -1.02184904e+00,   1.26346019e+00,  -1.34127240e+00,\n",
       "         -1.31297673e+00],\n",
       "       [ -5.37177559e-01,   1.95766909e+00,  -1.17067529e+00,\n",
       "         -1.05003079e+00],\n",
       "       [ -1.50652052e+00,   8.00654259e-01,  -1.34127240e+00,\n",
       "         -1.18150376e+00],\n",
       "       [ -1.02184904e+00,   8.00654259e-01,  -1.28440670e+00,\n",
       "         -1.31297673e+00],\n",
       "       [ -1.74885626e+00,  -3.56360566e-01,  -1.34127240e+00,\n",
       "         -1.31297673e+00],\n",
       "       [ -1.14301691e+00,   1.06445364e-01,  -1.28440670e+00,\n",
       "         -1.44444970e+00],\n",
       "       [ -5.37177559e-01,   1.49486315e+00,  -1.28440670e+00,\n",
       "         -1.31297673e+00],\n",
       "       [ -1.26418478e+00,   8.00654259e-01,  -1.22754100e+00,\n",
       "         -1.31297673e+00],\n",
       "       [ -1.26418478e+00,  -1.24957601e-01,  -1.34127240e+00,\n",
       "         -1.44444970e+00],\n",
       "       [ -1.87002413e+00,  -1.24957601e-01,  -1.51186952e+00,\n",
       "         -1.44444970e+00],\n",
       "       [ -5.25060772e-02,   2.18907205e+00,  -1.45500381e+00,\n",
       "         -1.31297673e+00],\n",
       "       [ -1.73673948e-01,   3.11468391e+00,  -1.28440670e+00,\n",
       "         -1.05003079e+00],\n",
       "       [ -5.37177559e-01,   1.95766909e+00,  -1.39813811e+00,\n",
       "         -1.05003079e+00],\n",
       "       [ -9.00681170e-01,   1.03205722e+00,  -1.34127240e+00,\n",
       "         -1.18150376e+00],\n",
       "       [ -1.73673948e-01,   1.72626612e+00,  -1.17067529e+00,\n",
       "         -1.18150376e+00],\n",
       "       [ -9.00681170e-01,   1.72626612e+00,  -1.28440670e+00,\n",
       "         -1.18150376e+00],\n",
       "       [ -5.37177559e-01,   8.00654259e-01,  -1.17067529e+00,\n",
       "         -1.31297673e+00],\n",
       "       [ -9.00681170e-01,   1.49486315e+00,  -1.28440670e+00,\n",
       "         -1.05003079e+00],\n",
       "       [ -1.50652052e+00,   1.26346019e+00,  -1.56873522e+00,\n",
       "         -1.31297673e+00],\n",
       "       [ -9.00681170e-01,   5.69251294e-01,  -1.17067529e+00,\n",
       "         -9.18557817e-01],\n",
       "       [ -1.26418478e+00,   8.00654259e-01,  -1.05694388e+00,\n",
       "         -1.31297673e+00],\n",
       "       [ -1.02184904e+00,  -1.24957601e-01,  -1.22754100e+00,\n",
       "         -1.31297673e+00],\n",
       "       [ -1.02184904e+00,   8.00654259e-01,  -1.22754100e+00,\n",
       "         -1.05003079e+00],\n",
       "       [ -7.79513300e-01,   1.03205722e+00,  -1.28440670e+00,\n",
       "         -1.31297673e+00],\n",
       "       [ -7.79513300e-01,   8.00654259e-01,  -1.34127240e+00,\n",
       "         -1.31297673e+00],\n",
       "       [ -1.38535265e+00,   3.37848329e-01,  -1.22754100e+00,\n",
       "         -1.31297673e+00],\n",
       "       [ -1.26418478e+00,   1.06445364e-01,  -1.22754100e+00,\n",
       "         -1.31297673e+00],\n",
       "       [ -5.37177559e-01,   8.00654259e-01,  -1.28440670e+00,\n",
       "         -1.05003079e+00],\n",
       "       [ -7.79513300e-01,   2.42047502e+00,  -1.28440670e+00,\n",
       "         -1.44444970e+00],\n",
       "       [ -4.16009689e-01,   2.65187798e+00,  -1.34127240e+00,\n",
       "         -1.31297673e+00],\n",
       "       [ -1.14301691e+00,   1.06445364e-01,  -1.28440670e+00,\n",
       "         -1.44444970e+00],\n",
       "       [ -1.02184904e+00,   3.37848329e-01,  -1.45500381e+00,\n",
       "         -1.31297673e+00],\n",
       "       [ -4.16009689e-01,   1.03205722e+00,  -1.39813811e+00,\n",
       "         -1.31297673e+00],\n",
       "       [ -1.14301691e+00,   1.06445364e-01,  -1.28440670e+00,\n",
       "         -1.44444970e+00],\n",
       "       [ -1.74885626e+00,  -1.24957601e-01,  -1.39813811e+00,\n",
       "         -1.31297673e+00],\n",
       "       [ -9.00681170e-01,   8.00654259e-01,  -1.28440670e+00,\n",
       "         -1.31297673e+00],\n",
       "       [ -1.02184904e+00,   1.03205722e+00,  -1.39813811e+00,\n",
       "         -1.18150376e+00],\n",
       "       [ -1.62768839e+00,  -1.74477836e+00,  -1.39813811e+00,\n",
       "         -1.18150376e+00],\n",
       "       [ -1.74885626e+00,   3.37848329e-01,  -1.39813811e+00,\n",
       "         -1.31297673e+00],\n",
       "       [ -1.02184904e+00,   1.03205722e+00,  -1.22754100e+00,\n",
       "         -7.87084847e-01],\n",
       "       [ -9.00681170e-01,   1.72626612e+00,  -1.05694388e+00,\n",
       "         -1.05003079e+00],\n",
       "       [ -1.26418478e+00,  -1.24957601e-01,  -1.34127240e+00,\n",
       "         -1.18150376e+00],\n",
       "       [ -9.00681170e-01,   1.72626612e+00,  -1.22754100e+00,\n",
       "         -1.31297673e+00],\n",
       "       [ -1.50652052e+00,   3.37848329e-01,  -1.34127240e+00,\n",
       "         -1.31297673e+00],\n",
       "       [ -6.58345429e-01,   1.49486315e+00,  -1.28440670e+00,\n",
       "         -1.31297673e+00],\n",
       "       [ -1.02184904e+00,   5.69251294e-01,  -1.34127240e+00,\n",
       "         -1.31297673e+00],\n",
       "       [  1.40150837e+00,   3.37848329e-01,   5.35295827e-01,\n",
       "          2.64698913e-01],\n",
       "       [  6.74501145e-01,   3.37848329e-01,   4.21564419e-01,\n",
       "          3.96171883e-01],\n",
       "       [  1.28034050e+00,   1.06445364e-01,   6.49027235e-01,\n",
       "          3.96171883e-01],\n",
       "       [ -4.16009689e-01,  -1.74477836e+00,   1.37235899e-01,\n",
       "          1.33225943e-01],\n",
       "       [  7.95669016e-01,  -5.87763531e-01,   4.78430123e-01,\n",
       "          3.96171883e-01],\n",
       "       [ -1.73673948e-01,  -5.87763531e-01,   4.21564419e-01,\n",
       "          1.33225943e-01],\n",
       "       [  5.53333275e-01,   5.69251294e-01,   5.35295827e-01,\n",
       "          5.27644853e-01],\n",
       "       [ -1.14301691e+00,  -1.51337539e+00,  -2.60824029e-01,\n",
       "         -2.61192967e-01],\n",
       "       [  9.16836886e-01,  -3.56360566e-01,   4.78430123e-01,\n",
       "          1.33225943e-01],\n",
       "       [ -7.79513300e-01,  -8.19166497e-01,   8.03701950e-02,\n",
       "          2.64698913e-01],\n",
       "       [ -1.02184904e+00,  -2.43898725e+00,  -1.47092621e-01,\n",
       "         -2.61192967e-01],\n",
       "       [  6.86617933e-02,  -1.24957601e-01,   2.50967307e-01,\n",
       "          3.96171883e-01],\n",
       "       [  1.89829664e-01,  -1.97618132e+00,   1.37235899e-01,\n",
       "         -2.61192967e-01],\n",
       "       [  3.10997534e-01,  -3.56360566e-01,   5.35295827e-01,\n",
       "          2.64698913e-01],\n",
       "       [ -2.94841818e-01,  -3.56360566e-01,  -9.02269170e-02,\n",
       "          1.33225943e-01],\n",
       "       [  1.03800476e+00,   1.06445364e-01,   3.64698715e-01,\n",
       "          2.64698913e-01],\n",
       "       [ -2.94841818e-01,  -1.24957601e-01,   4.21564419e-01,\n",
       "          3.96171883e-01],\n",
       "       [ -5.25060772e-02,  -8.19166497e-01,   1.94101603e-01,\n",
       "         -2.61192967e-01],\n",
       "       [  4.32165405e-01,  -1.97618132e+00,   4.21564419e-01,\n",
       "          3.96171883e-01],\n",
       "       [ -2.94841818e-01,  -1.28197243e+00,   8.03701950e-02,\n",
       "         -1.29719997e-01],\n",
       "       [  6.86617933e-02,   3.37848329e-01,   5.92161531e-01,\n",
       "          7.90590793e-01],\n",
       "       [  3.10997534e-01,  -5.87763531e-01,   1.37235899e-01,\n",
       "          1.33225943e-01],\n",
       "       [  5.53333275e-01,  -1.28197243e+00,   6.49027235e-01,\n",
       "          3.96171883e-01],\n",
       "       [  3.10997534e-01,  -5.87763531e-01,   5.35295827e-01,\n",
       "          1.75297293e-03],\n",
       "       [  6.74501145e-01,  -3.56360566e-01,   3.07833011e-01,\n",
       "          1.33225943e-01],\n",
       "       [  9.16836886e-01,  -1.24957601e-01,   3.64698715e-01,\n",
       "          2.64698913e-01],\n",
       "       [  1.15917263e+00,  -5.87763531e-01,   5.92161531e-01,\n",
       "          2.64698913e-01],\n",
       "       [  1.03800476e+00,  -1.24957601e-01,   7.05892939e-01,\n",
       "          6.59117823e-01],\n",
       "       [  1.89829664e-01,  -3.56360566e-01,   4.21564419e-01,\n",
       "          3.96171883e-01],\n",
       "       [ -1.73673948e-01,  -1.05056946e+00,  -1.47092621e-01,\n",
       "         -2.61192967e-01],\n",
       "       [ -4.16009689e-01,  -1.51337539e+00,   2.35044910e-02,\n",
       "         -1.29719997e-01],\n",
       "       [ -4.16009689e-01,  -1.51337539e+00,  -3.33612130e-02,\n",
       "         -2.61192967e-01],\n",
       "       [ -5.25060772e-02,  -8.19166497e-01,   8.03701950e-02,\n",
       "          1.75297293e-03],\n",
       "       [  1.89829664e-01,  -8.19166497e-01,   7.62758643e-01,\n",
       "          5.27644853e-01],\n",
       "       [ -5.37177559e-01,  -1.24957601e-01,   4.21564419e-01,\n",
       "          3.96171883e-01],\n",
       "       [  1.89829664e-01,   8.00654259e-01,   4.21564419e-01,\n",
       "          5.27644853e-01],\n",
       "       [  1.03800476e+00,   1.06445364e-01,   5.35295827e-01,\n",
       "          3.96171883e-01],\n",
       "       [  5.53333275e-01,  -1.74477836e+00,   3.64698715e-01,\n",
       "          1.33225943e-01],\n",
       "       [ -2.94841818e-01,  -1.24957601e-01,   1.94101603e-01,\n",
       "          1.33225943e-01],\n",
       "       [ -4.16009689e-01,  -1.28197243e+00,   1.37235899e-01,\n",
       "          1.33225943e-01],\n",
       "       [ -4.16009689e-01,  -1.05056946e+00,   3.64698715e-01,\n",
       "          1.75297293e-03],\n",
       "       [  3.10997534e-01,  -1.24957601e-01,   4.78430123e-01,\n",
       "          2.64698913e-01],\n",
       "       [ -5.25060772e-02,  -1.05056946e+00,   1.37235899e-01,\n",
       "          1.75297293e-03],\n",
       "       [ -1.02184904e+00,  -1.74477836e+00,  -2.60824029e-01,\n",
       "         -2.61192967e-01],\n",
       "       [ -2.94841818e-01,  -8.19166497e-01,   2.50967307e-01,\n",
       "          1.33225943e-01],\n",
       "       [ -1.73673948e-01,  -1.24957601e-01,   2.50967307e-01,\n",
       "          1.75297293e-03],\n",
       "       [ -1.73673948e-01,  -3.56360566e-01,   2.50967307e-01,\n",
       "          1.33225943e-01],\n",
       "       [  4.32165405e-01,  -3.56360566e-01,   3.07833011e-01,\n",
       "          1.33225943e-01],\n",
       "       [ -9.00681170e-01,  -1.28197243e+00,  -4.31421141e-01,\n",
       "         -1.29719997e-01],\n",
       "       [ -1.73673948e-01,  -5.87763531e-01,   1.94101603e-01,\n",
       "          1.33225943e-01],\n",
       "       [  5.53333275e-01,   5.69251294e-01,   1.27454998e+00,\n",
       "          1.71090158e+00],\n",
       "       [ -5.25060772e-02,  -8.19166497e-01,   7.62758643e-01,\n",
       "          9.22063763e-01],\n",
       "       [  1.52267624e+00,  -1.24957601e-01,   1.21768427e+00,\n",
       "          1.18500970e+00],\n",
       "       [  5.53333275e-01,  -3.56360566e-01,   1.04708716e+00,\n",
       "          7.90590793e-01],\n",
       "       [  7.95669016e-01,  -1.24957601e-01,   1.16081857e+00,\n",
       "          1.31648267e+00],\n",
       "       [  2.12851559e+00,  -1.24957601e-01,   1.61574420e+00,\n",
       "          1.18500970e+00],\n",
       "       [ -1.14301691e+00,  -1.28197243e+00,   4.21564419e-01,\n",
       "          6.59117823e-01],\n",
       "       [  1.76501198e+00,  -3.56360566e-01,   1.44514709e+00,\n",
       "          7.90590793e-01],\n",
       "       [  1.03800476e+00,  -1.28197243e+00,   1.16081857e+00,\n",
       "          7.90590793e-01],\n",
       "       [  1.64384411e+00,   1.26346019e+00,   1.33141568e+00,\n",
       "          1.71090158e+00],\n",
       "       [  7.95669016e-01,   3.37848329e-01,   7.62758643e-01,\n",
       "          1.05353673e+00],\n",
       "       [  6.74501145e-01,  -8.19166497e-01,   8.76490051e-01,\n",
       "          9.22063763e-01],\n",
       "       [  1.15917263e+00,  -1.24957601e-01,   9.90221459e-01,\n",
       "          1.18500970e+00],\n",
       "       [ -1.73673948e-01,  -1.28197243e+00,   7.05892939e-01,\n",
       "          1.05353673e+00],\n",
       "       [ -5.25060772e-02,  -5.87763531e-01,   7.62758643e-01,\n",
       "          1.57942861e+00],\n",
       "       [  6.74501145e-01,   3.37848329e-01,   8.76490051e-01,\n",
       "          1.44795564e+00],\n",
       "       [  7.95669016e-01,  -1.24957601e-01,   9.90221459e-01,\n",
       "          7.90590793e-01],\n",
       "       [  2.24968346e+00,   1.72626612e+00,   1.67260991e+00,\n",
       "          1.31648267e+00],\n",
       "       [  2.24968346e+00,  -1.05056946e+00,   1.78634131e+00,\n",
       "          1.44795564e+00],\n",
       "       [  1.89829664e-01,  -1.97618132e+00,   7.05892939e-01,\n",
       "          3.96171883e-01],\n",
       "       [  1.28034050e+00,   3.37848329e-01,   1.10395287e+00,\n",
       "          1.44795564e+00],\n",
       "       [ -2.94841818e-01,  -5.87763531e-01,   6.49027235e-01,\n",
       "          1.05353673e+00],\n",
       "       [  2.24968346e+00,  -5.87763531e-01,   1.67260991e+00,\n",
       "          1.05353673e+00],\n",
       "       [  5.53333275e-01,  -8.19166497e-01,   6.49027235e-01,\n",
       "          7.90590793e-01],\n",
       "       [  1.03800476e+00,   5.69251294e-01,   1.10395287e+00,\n",
       "          1.18500970e+00],\n",
       "       [  1.64384411e+00,   3.37848329e-01,   1.27454998e+00,\n",
       "          7.90590793e-01],\n",
       "       [  4.32165405e-01,  -5.87763531e-01,   5.92161531e-01,\n",
       "          7.90590793e-01],\n",
       "       [  3.10997534e-01,  -1.24957601e-01,   6.49027235e-01,\n",
       "          7.90590793e-01],\n",
       "       [  6.74501145e-01,  -5.87763531e-01,   1.04708716e+00,\n",
       "          1.18500970e+00],\n",
       "       [  1.64384411e+00,  -1.24957601e-01,   1.16081857e+00,\n",
       "          5.27644853e-01],\n",
       "       [  1.88617985e+00,  -5.87763531e-01,   1.33141568e+00,\n",
       "          9.22063763e-01],\n",
       "       [  2.49201920e+00,   1.72626612e+00,   1.50201279e+00,\n",
       "          1.05353673e+00],\n",
       "       [  6.74501145e-01,  -5.87763531e-01,   1.04708716e+00,\n",
       "          1.31648267e+00],\n",
       "       [  5.53333275e-01,  -5.87763531e-01,   7.62758643e-01,\n",
       "          3.96171883e-01],\n",
       "       [  3.10997534e-01,  -1.05056946e+00,   1.04708716e+00,\n",
       "          2.64698913e-01],\n",
       "       [  2.24968346e+00,  -1.24957601e-01,   1.33141568e+00,\n",
       "          1.44795564e+00],\n",
       "       [  5.53333275e-01,   8.00654259e-01,   1.04708716e+00,\n",
       "          1.57942861e+00],\n",
       "       [  6.74501145e-01,   1.06445364e-01,   9.90221459e-01,\n",
       "          7.90590793e-01],\n",
       "       [  1.89829664e-01,  -1.24957601e-01,   5.92161531e-01,\n",
       "          7.90590793e-01],\n",
       "       [  1.28034050e+00,   1.06445364e-01,   9.33355755e-01,\n",
       "          1.18500970e+00],\n",
       "       [  1.03800476e+00,   1.06445364e-01,   1.04708716e+00,\n",
       "          1.57942861e+00],\n",
       "       [  1.28034050e+00,   1.06445364e-01,   7.62758643e-01,\n",
       "          1.44795564e+00],\n",
       "       [ -5.25060772e-02,  -8.19166497e-01,   7.62758643e-01,\n",
       "          9.22063763e-01],\n",
       "       [  1.15917263e+00,   3.37848329e-01,   1.21768427e+00,\n",
       "          1.44795564e+00],\n",
       "       [  1.03800476e+00,   5.69251294e-01,   1.10395287e+00,\n",
       "          1.71090158e+00],\n",
       "       [  1.03800476e+00,  -1.24957601e-01,   8.19624347e-01,\n",
       "          1.44795564e+00],\n",
       "       [  5.53333275e-01,  -1.28197243e+00,   7.05892939e-01,\n",
       "          9.22063763e-01],\n",
       "       [  7.95669016e-01,  -1.24957601e-01,   8.19624347e-01,\n",
       "          1.05353673e+00],\n",
       "       [  4.32165405e-01,   8.00654259e-01,   9.33355755e-01,\n",
       "          1.44795564e+00],\n",
       "       [  6.86617933e-02,  -1.24957601e-01,   7.62758643e-01,\n",
       "          7.90590793e-01]])"
      ]
     },
     "execution_count": 4,
     "metadata": {},
     "output_type": "execute_result"
    }
   ],
   "source": [
    "from sklearn.preprocessing import StandardScaler\n",
    "sc = StandardScaler()\n",
    "sc.fit_transform(data) #check out preprocessing module of sklearn learn more about preprocessing in ML"
   ]
  },
  {
   "cell_type": "code",
   "execution_count": 5,
   "metadata": {
    "collapsed": false
   },
   "outputs": [],
   "source": [
    "#now let us divide data into training and testing set\n",
    "from sklearn.model_selection import train_test_split\n",
    "X_train, X_test, y_train, y_test = train_test_split(data, target, random_state=42, test_size=0.3)"
   ]
  },
  {
   "cell_type": "code",
   "execution_count": 6,
   "metadata": {
    "collapsed": false
   },
   "outputs": [
    {
     "data": {
      "text/plain": [
       "SVC(C=1.0, cache_size=200, class_weight=None, coef0=0.0,\n",
       "  decision_function_shape=None, degree=3, gamma='auto', kernel='rbf',\n",
       "  max_iter=-1, probability=False, random_state=None, shrinking=True,\n",
       "  tol=0.001, verbose=False)"
      ]
     },
     "execution_count": 6,
     "metadata": {},
     "output_type": "execute_result"
    }
   ],
   "source": [
    "#train a model\n",
    "model = SVC()\n",
    "model.fit(X_train,y_train)"
   ]
  },
  {
   "cell_type": "code",
   "execution_count": 7,
   "metadata": {
    "collapsed": true
   },
   "outputs": [],
   "source": [
    "from sklearn.metrics import accuracy_score"
   ]
  },
  {
   "cell_type": "code",
   "execution_count": 8,
   "metadata": {
    "collapsed": false
   },
   "outputs": [
    {
     "data": {
      "text/plain": [
       "1.0"
      ]
     },
     "execution_count": 8,
     "metadata": {},
     "output_type": "execute_result"
    }
   ],
   "source": [
    "accuracy_score(y_test, model.predict(X_test))"
   ]
  },
  {
   "cell_type": "code",
   "execution_count": 9,
   "metadata": {
    "collapsed": false
   },
   "outputs": [
    {
     "data": {
      "text/plain": [
       "(39, 4)"
      ]
     },
     "execution_count": 9,
     "metadata": {},
     "output_type": "execute_result"
    }
   ],
   "source": [
    "model.support_vectors_.shape"
   ]
  },
  {
   "cell_type": "code",
   "execution_count": 10,
   "metadata": {
    "collapsed": false
   },
   "outputs": [
    {
     "data": {
      "text/plain": [
       "array([[ 5.1,  3.8,  1.9,  0.4],\n",
       "       [ 4.8,  3.4,  1.9,  0.2],\n",
       "       [ 5.5,  4.2,  1.4,  0.2],\n",
       "       [ 4.5,  2.3,  1.3,  0.3],\n",
       "       [ 5.8,  4. ,  1.2,  0.2],\n",
       "       [ 5.6,  3. ,  4.5,  1.5],\n",
       "       [ 5. ,  2. ,  3.5,  1. ],\n",
       "       [ 5.4,  3. ,  4.5,  1.5],\n",
       "       [ 6.7,  3. ,  5. ,  1.7],\n",
       "       [ 5.9,  3.2,  4.8,  1.8],\n",
       "       [ 5.1,  2.5,  3. ,  1.1],\n",
       "       [ 6. ,  2.7,  5.1,  1.6],\n",
       "       [ 6.3,  2.5,  4.9,  1.5],\n",
       "       [ 6.1,  2.9,  4.7,  1.4],\n",
       "       [ 6.5,  2.8,  4.6,  1.5],\n",
       "       [ 7. ,  3.2,  4.7,  1.4],\n",
       "       [ 6.1,  3. ,  4.6,  1.4],\n",
       "       [ 5.5,  2.6,  4.4,  1.2],\n",
       "       [ 4.9,  2.4,  3.3,  1. ],\n",
       "       [ 6.9,  3.1,  4.9,  1.5],\n",
       "       [ 6.3,  2.3,  4.4,  1.3],\n",
       "       [ 6.3,  2.8,  5.1,  1.5],\n",
       "       [ 7.7,  2.8,  6.7,  2. ],\n",
       "       [ 6.3,  2.7,  4.9,  1.8],\n",
       "       [ 7.7,  3.8,  6.7,  2.2],\n",
       "       [ 5.7,  2.5,  5. ,  2. ],\n",
       "       [ 6. ,  3. ,  4.8,  1.8],\n",
       "       [ 5.8,  2.7,  5.1,  1.9],\n",
       "       [ 6.2,  3.4,  5.4,  2.3],\n",
       "       [ 6.1,  2.6,  5.6,  1.4],\n",
       "       [ 6. ,  2.2,  5. ,  1.5],\n",
       "       [ 6.3,  3.3,  6. ,  2.5],\n",
       "       [ 6.2,  2.8,  4.8,  1.8],\n",
       "       [ 6.9,  3.1,  5.4,  2.1],\n",
       "       [ 6.5,  3. ,  5.2,  2. ],\n",
       "       [ 7.2,  3. ,  5.8,  1.6],\n",
       "       [ 5.6,  2.8,  4.9,  2. ],\n",
       "       [ 5.9,  3. ,  5.1,  1.8],\n",
       "       [ 4.9,  2.5,  4.5,  1.7]])"
      ]
     },
     "execution_count": 10,
     "metadata": {},
     "output_type": "execute_result"
    }
   ],
   "source": [
    "model.support_vectors_"
   ]
  },
  {
   "cell_type": "markdown",
   "metadata": {},
   "source": [
    "<p style=\"font-family:verdana; font-size:15px\">Till now, we see problems where input data can be seperated by linear hyperplane. But what is data points are not linearly seperable as shown below?</p>\n",
    "![title](./images/svm5.png)\n"
   ]
  },
  {
   "cell_type": "markdown",
   "metadata": {},
   "source": [
    "<p style=\"font-family:verdana; font-size:15px\">To solve this type of problems where data can not be seperated linearly, we add new feature. For example, let us add new feature z = x<sup>2</sup> + y<sup>2</sup>. Now, if we plot data points on x and z axis we get :</p>\n",
    "![title](./images/svm3.png)\n"
   ]
  },
  {
   "cell_type": "markdown",
   "metadata": {},
   "source": [
    "<p style=\"font-family:verdana; font-size:15px\"> As you can see, now we can have a linear hyperplane that can seperate data points very well. Do we need to add this additional feature manually? And the answer is no. We use the technique called <b> Kernel Trick</b>. Kernel trick is nothing but a set of functions which takes low-dimensional input space and transform it into high-dimensional space where data points are linearly seperable. These functions are called kernels. Widely used kernels are Radial Basis Function Kernel, Polynomial Kernel, Sigmoid kernel, etc.<br><br>\n",
    "\n",
    "Let us implement this in sklearn.</p>"
   ]
  },
  {
   "cell_type": "code",
   "execution_count": 11,
   "metadata": {
    "collapsed": false
   },
   "outputs": [
    {
     "data": {
      "text/plain": [
       "1.0"
      ]
     },
     "execution_count": 11,
     "metadata": {},
     "output_type": "execute_result"
    }
   ],
   "source": [
    "#we have already imported libs and dataset\n",
    "model2= SVC(kernel=\"rbf\", gamma=0.2)\n",
    "model2.fit(X_train, y_train)\n",
    "model2.score(X_test, y_test)"
   ]
  },
  {
   "cell_type": "markdown",
   "metadata": {
    "collapsed": true
   },
   "source": [
    "<p style=\"font-family:verdana; font-size:15px\"> We can have different decision boundary for different kernels and gamma values. Here is the screenshot from scikit-learn website.</p>\n",
    "![title](./images/svm6.png)\n"
   ]
  },
  {
   "cell_type": "markdown",
   "metadata": {
    "collapsed": false
   },
   "source": [
    "# Decision Tree"
   ]
  },
  {
   "cell_type": "markdown",
   "metadata": {},
   "source": [
    "<p style=\"font-family:verdana; font-size:15px\">Decision Tree is the supervised learning algorithm which can be used for classification as well as regression problems. Decision Tree is very popular learning algorithm because of its interpretability. In this method, we split population into set of homogeneous sets by asking set of questions. Consider a problem where we want to decide what to do on a particular day. We can design a decision tree as follows : (Source: Python Machine Learning by Sebastian Raschka)</p>\n",
    "![title](./images/dt1.png)"
   ]
  },
  {
   "cell_type": "markdown",
   "metadata": {},
   "source": [
    "<p style=\"font-family:verdana; font-size:15px\">There are two types of nodes in above figure. One with gray background and one with white background. Nodes with gray background color are terminal nodes. Each edge represents a decision, for i.e, weather is sunny or not?. In above figure, we have four possible classes and each terminal node represents one of them. In above example, features are - work(yes/no), weather(i.e sunny), friends busy?(yes/no). Once we have a decision tree(we haven't seen how to construct them yet) we can predict the outcome. For example, if our input is work(no),weather(rainy),freinds busy?(no) then we will opt for <b> Go to movies</b>.<br><br>\n",
    "\n",
    "But, how do we construct decision tree? We start with root node and split dataset on a feature that results in largest <b>information gain</b>. We repeat this process of splitting on child node unitl we get nodes which are pure means they contain samples of a once class. We need a way to compute the impurity at each node. Before going into that let us first define information gain. Here, our objective is to maximize the information gain at each split. We define information gain as follows : \n",
    "<br><br>\n",
    "\\begin{align}\n",
    "IG(D_p,f) = I(D_p) - \\sum_{j=1}^{m} \\frac{N_j}{N_p} I(D_j)\n",
    "\\end{align}\n",
    "\n",
    "Here, f is the feature to perform the split, D<sub>p</sub> and D<sub>j</sub> are the dataset of the parent and jth child node, I is the impurity measure (i.e entropy, gini index), N<sub>p</sub> is the total number of smples at the parent node and N<sub>j</sub> is the number of samples in the jth child node. Information gain is the difference between the impurity of parent node and the sum of the child node impurities. However, for simplicity and to reduce the combinatorial search space, most machine learning libraries implement binary decision tree, that is, each parent node has two child nodes. Say two child nodes are, D<sub>left</sub> and D<sub>right</sub> then information gain will be:\n",
    "<br><br>\n",
    "\\begin{align}\n",
    "IG(D_p, f) = I(D_p) - \\frac{N_{left}}{N_p} I(D_{left}) - \\frac{N_{right}}{N_p} I(D_{right})\n",
    "\\end{align}\n",
    "<Br><br>\n",
    "Commonly used impurity measures or splitting criteria are <b> Gini Impurity </b>, <b> Entropy </b> and <b> Classification Error</b>. Here, we'll only discuss about entropy.\n",
    "\n",
    "For all non-empty classes (p(i | t) not equals to zero), entropy can be defined as <br>\n",
    "<br><br>\n",
    "\\begin{align}\n",
    "I_H(t) = -\\sum_{i=1}^{C}  p(i | t)  log_2 p(i | t)\n",
    "\\end{align}\n",
    "<br><br>\n",
    "Where p(i | t) is the part of the samples that belong to the class i for a particular node t and C is the number of classes. The entropy is 0 if all samples at a node belong to the same class and the entropy is maximum if the classes are distributed uniformly. For example, if we have 100 samples and 2 classes then entropy will be maximum if 50 samples belong to one class and remaining belong to second class.</p>\n"
   ]
  },
  {
   "cell_type": "code",
   "execution_count": 12,
   "metadata": {
    "collapsed": true
   },
   "outputs": [],
   "source": [
    "#entropy in numpy\n",
    "import numpy as np\n",
    "def entropy(p):\n",
    "    return -p * np.log2(p) - (1-p) * np.log2((1-p)) #for binary class"
   ]
  },
  {
   "cell_type": "markdown",
   "metadata": {},
   "source": [
    "![title](./images/entropy.png)\n",
    "<p style=\"font-family:verdana; font-size:15px\">\n",
    "As you can see, entropy is maximum when p(i=1 | t ) and p(i=0 | t)=0.5. And entropy is minimum when all the samples belong to the same class. We define Gini Impurity as :\n",
    "<br><BR>\n",
    "\\begin{align}\n",
    "I_g(t) = \\sum_{i=1}^{C} p(i | t) (1 - p(i | t))\n",
    "\\end{align}<br><Br>\n",
    "Now let us implement Decision Tree in sklearn.</p>"
   ]
  },
  {
   "cell_type": "code",
   "execution_count": 7,
   "metadata": {
    "collapsed": false
   },
   "outputs": [
    {
     "data": {
      "text/plain": [
       "DecisionTreeClassifier(class_weight=None, criterion='entropy', max_depth=3,\n",
       "            max_features=None, max_leaf_nodes=None,\n",
       "            min_impurity_split=1e-07, min_samples_leaf=1,\n",
       "            min_samples_split=2, min_weight_fraction_leaf=0.0,\n",
       "            presort=False, random_state=42, splitter='best')"
      ]
     },
     "execution_count": 7,
     "metadata": {},
     "output_type": "execute_result"
    }
   ],
   "source": [
    "#import libs and dataset\n",
    "from sklearn.datasets import load_iris\n",
    "from sklearn.tree import DecisionTreeClassifier\n",
    "from sklearn.model_selection import train_test_split\n",
    "\n",
    "dataset = load_iris()\n",
    "X = dataset.data\n",
    "y = dataset.target\n",
    "\n",
    "X_train, X_test, y_train, y_test = train_test_split(X,y,test_size=0.3, random_state=42)\n",
    "\n",
    "model = DecisionTreeClassifier(criterion=\"entropy\", max_depth=3, random_state=42)\n",
    "#decision trees are prone to overfitting thats why we remove some sub-nodes of the tree, that's called \"pruning\"\n",
    "#here, we control depth of the tree using max_depth attribute\n",
    "#other option for criterion is \"gini\"\n",
    "#random_state- just to make sure we get same results each time we run this code\n",
    "\n",
    "model.fit(X_train, y_train)"
   ]
  },
  {
   "cell_type": "code",
   "execution_count": 8,
   "metadata": {
    "collapsed": false
   },
   "outputs": [
    {
     "data": {
      "text/plain": [
       "0.97777777777777775"
      ]
     },
     "execution_count": 8,
     "metadata": {},
     "output_type": "execute_result"
    }
   ],
   "source": [
    "#test the model\n",
    "model.score(X_test, y_test)"
   ]
  },
  {
   "cell_type": "markdown",
   "metadata": {},
   "source": [
    "<p style=\"font-family:verdana; font-size:15px\">\n",
    "We can also save the decision tree which our model has built. You need to have <a href=\"http://www.graphviz.org/Download.php\">Graph Viz </a> and <a href=\"https://pypi.python.org/pypi/pydotplus\">pydotplus</a> installed in your system.</p>"
   ]
  },
  {
   "cell_type": "code",
   "execution_count": 9,
   "metadata": {
    "collapsed": false
   },
   "outputs": [
    {
     "data": {
      "text/plain": [
       "True"
      ]
     },
     "execution_count": 9,
     "metadata": {},
     "output_type": "execute_result"
    }
   ],
   "source": [
    "from sklearn.externals.six import StringIO  \n",
    "from sklearn.tree import export_graphviz\n",
    "import pydotplus\n",
    "dot_data = StringIO() \n",
    "export_graphviz(model, out_file=dot_data) \n",
    "graph = pydotplus.graph_from_dot_data(dot_data.getvalue()) \n",
    "graph.write_pdf(\"iris.pdf\") "
   ]
  },
  {
   "cell_type": "code",
   "execution_count": 10,
   "metadata": {
    "collapsed": false
   },
   "outputs": [
    {
     "data": {
      "image/png": "[encoded data removed]",
      "text/plain": [
       "<IPython.core.display.Image object>"
      ]
     },
     "execution_count": 10,
     "metadata": {},
     "output_type": "execute_result"
    }
   ],
   "source": [
    "from IPython.display import Image\n",
    "Image(filename=\"./images/tree.png\")"
   ]
  },
  {
   "cell_type": "markdown",
   "metadata": {},
   "source": [
    "<p style=\"font-family:verdana; font-size:15px\">\n",
    "Some of the advantages of Decision Trees are they are easy to understand because of their interpretability, less data cleaning is required, it can handle both numerical and categorical data. One of the problem with decision tree is overfitting which can be solved by pruning the decision tree."
   ]
  },
  {
   "cell_type": "markdown",
   "metadata": {
    "collapsed": true
   },
   "source": [
    "# Ensemble Methods"
   ]
  },
  {
   "cell_type": "markdown",
   "metadata": {},
   "source": [
    "<p style=\"font-family:verdana; font-size:15px\">\n",
    "Till now, we discussed methods in which there was only one hypothesis. In other words, we were training only one model for one problem. In ensemble learning, we train a set of models to achieve better accuracy and stability. At prediction time we combine the prediction of all. In case of classification, we take vote of each model and in case of regression, we take the mean of the prediction of each model. We run multiple models on the data and use the aggregate prediction, which is better than a single model.<br><br></p>\n",
    "<p style=\"font-family:verdana; font-size:15px\">\n",
    "<b> Bagging (Bootstrap aggregating)</b> is a technique used to reduce the variance of a prediction by combining the result of multiple classifiers. In baggin, first we create multiple datasets from the original dataset. Please note, these datasets have random number of samples and random number of features. Then we build classifier on each dataset. For prediction, we use combine predictions of models.<br><br>\n"
   ]
  },
  {
   "cell_type": "markdown",
   "metadata": {},
   "source": [
    "# Random Forest"
   ]
  },
  {
   "cell_type": "markdown",
   "metadata": {},
   "source": [
    "<b>Random Forest</b> is the most common type of Ensemble Learning. Basically, it is a collection of decision trees. We repeatedly select data from the data set with replacement (which is also known as <b> bootstrapping</b>)and build a Decision Tree with each new sample. One thing to note here is that each node of the Decision Tree is limited to only considering splits on random subsets of the features. If features were not chosen randomly, Decision Trees in our forest could become highly correlated. There are plethora of advantages of random forest such as they are fast to train, requires no input preparation. One of the disadvantage of random forest is that our model may become too large.<br><br>\n",
    "\n",
    "</p>\n",
    "<p style=\"font-family:verdana; font-size:15px\">\n",
    "We hold out one third of the dataset before generating multiple datasets to use in testing. These samples are called <b> out of bag samples</b> and error estimated with these samples is known as <b> out of bag error</b>.</p>"
   ]
  },
  {
   "cell_type": "code",
   "execution_count": 15,
   "metadata": {
    "collapsed": false
   },
   "outputs": [
    {
     "name": "stdout",
     "output_type": "stream",
     "text": [
      "30 0.0333333333333\n",
      "31 0.0333333333333\n",
      "32 0.0333333333333\n",
      "33 0.0333333333333\n",
      "34 0.0333333333333\n",
      "35 0.0333333333333\n",
      "36 0.0333333333333\n",
      "37 0.04\n",
      "38 0.04\n",
      "39 0.04\n",
      "40 0.04\n",
      "41 0.0333333333333\n",
      "42 0.0333333333333\n",
      "43 0.0333333333333\n",
      "44 0.04\n",
      "45 0.0466666666667\n",
      "46 0.04\n",
      "47 0.0333333333333\n",
      "48 0.04\n",
      "49 0.04\n",
      "50 0.04\n",
      "51 0.04\n",
      "52 0.0333333333333\n",
      "53 0.0333333333333\n",
      "54 0.0466666666667\n",
      "55 0.0466666666667\n",
      "56 0.04\n",
      "57 0.04\n",
      "58 0.04\n",
      "59 0.04\n",
      "60 0.04\n"
     ]
    }
   ],
   "source": [
    "from sklearn.ensemble import RandomForestClassifier\n",
    "min_estimator = 30  #min number of trees to be built\n",
    "max_estimator = 60  #max number of trees to be built\n",
    "rf = RandomForestClassifier(criterion=\"entropy\", warm_start=True, oob_score=True,random_state=42)\n",
    "for i in range(min_estimator, max_estimator+1):\n",
    "    rf.set_params(n_estimators=i)\n",
    "    rf.fit(X,y)   #do not need to make training and testing set\n",
    "    oob_score = 1 - rf.oob_score_\n",
    "    print(i, oob_score)"
   ]
  },
  {
   "cell_type": "markdown",
   "metadata": {
    "collapsed": true
   },
   "source": [
    "#  Boosting"
   ]
  },
  {
   "cell_type": "markdown",
   "metadata": {
    "collapsed": true
   },
   "source": [
    "<p style=\"font-family:verdana; font-size:15px\">\n",
    "<b>Boosting </b> is a technique used to reduce bias as well as variance in supervised learning. Bias means how much on an average are the predicted values different from the actual value and variance means how different will the predictions of the model be at the same point if different samples are taken from the same population. Boosting refers to a set of machine learning algorithms which convert <b>weak learners</b> into <b>strong learner</b>. This was inspired by a question- Can a set of weak learners create a single strong learner? Gradient Boosting, AdaBoost and XGBoost are examples of boosting algorithms. Boosting algorithms such as xgboost are the secret to win machine learning competitions."
   ]
  },
  {
   "cell_type": "markdown",
   "metadata": {},
   "source": [
    "## Gradient Boosting"
   ]
  },
  {
   "cell_type": "markdown",
   "metadata": {},
   "source": [
    "<p style=\"font-family:verdana; font-size:15px\">\n",
    "<b> Gradient Boosting = Gradient Descent + Boosting </b><br><br>\n",
    "This is how Gradient Boosting works,\n",
    "<br>\n",
    "<ul>\n",
    "<li> Fit an additive model (ensemble) in a forward stage-wise manner.</li>\n",
    "<li> In each stage, introduce a weak learner to compensate the shortcomings of previous weak learners.</li>\n",
    "<li> Shortcomings are identified by gradients</li>"
   ]
  }
 ],
 "metadata": {
  "anaconda-cloud": {},
  "kernelspec": {
   "display_name": "Python [Root]",
   "language": "python",
   "name": "Python [Root]"
  },
  "language_info": {
   "codemirror_mode": {
    "name": "ipython",
    "version": 3
   },
   "file_extension": ".py",
   "mimetype": "text/x-python",
   "name": "python",
   "nbconvert_exporter": "python",
   "pygments_lexer": "ipython3",
   "version": "3.5.2"
  }
 },
 "nbformat": 4,
 "nbformat_minor": 0
}
