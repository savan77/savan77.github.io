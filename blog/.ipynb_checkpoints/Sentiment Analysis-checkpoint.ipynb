{
 "cells": [
  {
   "cell_type": "markdown",
   "metadata": {},
   "source": [
    "\n",
    "# Sentiment Analysis"
   ]
  },
  {
   "cell_type": "markdown",
   "metadata": {},
   "source": [
    "In this exercise, we will build a classifier which can detect the sentiment in a text. Sentiment can be defined as a view or an opinion that is expressed. Consider this movie review-\"that was an awesome movie\". Here, the sentiment is positive.\n",
    "\n",
    "Till now, we used datasets provided by ML libraries. In this exercise, we will download the dataset and perform some operations to make it suitable for our model. You will notice that most of the time during this exercise is spent on data loading and preprocessing."
   ]
  },
  {
   "cell_type": "markdown",
   "metadata": {},
   "source": [
    "## Prepare Dataset"
   ]
  },
  {
   "cell_type": "markdown",
   "metadata": {},
   "source": [
    "We will be using movie review dataset. It consists of 1000 positive and 1000 negative reviews. You can download it <a href=\"http://www.cs.cornell.edu/people/pabo/movie-review-data/\">here</a>."
   ]
  },
  {
   "cell_type": "code",
   "execution_count": 12,
   "metadata": {
    "collapsed": true
   },
   "outputs": [],
   "source": [
    "#import dependencies\n",
    "import os"
   ]
  },
  {
   "cell_type": "code",
   "execution_count": 14,
   "metadata": {
    "collapsed": false
   },
   "outputs": [],
   "source": [
    "DATA_DIR =\"./txt_sentoken\"\n",
    "classes = ['pos', 'neg']\n",
    "\n",
    "#vars to store data\n",
    "train_data = []\n",
    "train_labels = []\n",
    "test_data = []\n",
    "test_labels = []\n",
    "\n",
    "for c in classes:\n",
    "    data_dir = os.path.join(DATA_DIR, c)\n",
    "    for fname in os.listdir(data_dir):\n",
    "        with open(os.path.join(data_dir, fname), 'r') as f:\n",
    "            content = f.read()\n",
    "            if fname.startswith('cv9'):\n",
    "                test_data.append(content)\n",
    "                test_labels.append(c)\n",
    "            else:\n",
    "                train_data.append(content)\n",
    "                train_labels.append(c)\n"
   ]
  },
  {
   "cell_type": "code",
   "execution_count": 15,
   "metadata": {
    "collapsed": false
   },
   "outputs": [
    {
     "data": {
      "text/plain": [
       "list"
      ]
     },
     "execution_count": 15,
     "metadata": {},
     "output_type": "execute_result"
    }
   ],
   "source": [
    "type(train_data)"
   ]
  },
  {
   "cell_type": "code",
   "execution_count": 17,
   "metadata": {
    "collapsed": false
   },
   "outputs": [
    {
     "name": "stdout",
     "output_type": "stream",
     "text": [
      "1800 200\n"
     ]
    }
   ],
   "source": [
    "print(len(train_data), len(test_data))"
   ]
  },
  {
   "cell_type": "code",
   "execution_count": 18,
   "metadata": {
    "collapsed": false
   },
   "outputs": [
    {
     "name": "stdout",
     "output_type": "stream",
     "text": [
      " \" jaws \" is a rare film that grabs your attention before it shows you a single image on screen . \n",
      "the movie opens with blackness , and only distant , alien-like underwater sounds . \n",
      "then it comes , the first ominous bars of composer john williams' now infamous score . \n",
      "dah-dum . \n",
      "from there , director steven spielberg wastes no time , taking us into the water on a midnight swim with a beautiful girl that turns deadly . \n",
      "right away he lets us know how vulnerable we all are floating in the ocean , and once \" jaws \" has attacked , it never relinquishes its grip . \n",
      "perhaps what is most outstanding about \" jaws \" is how spielberg builds the movie . \n",
      "he works it like a theatrical production , with a first act and a second act . \n",
      "unlike so many modern filmmakers , he has a great deal of restraint , and refuses to show us the shark until the middle of the second act . \n",
      "until then , he merely suggests its presence with creepy , subjective underwater shots and williams' music . \n",
      "he's building the tension bit by bit , so when it comes time for the climax , the shark's arrival is truly terrifying . \n",
      "he doesn't let us get bored with the imagery . \n",
      "the first act opens with police chief martin brody ( roy scheider ) , a new york cop who has taken an easy , peaceful job running the police station on amity island , a fictitious new england resort town where there hasn't been a murder or a gun fired in 25 years . \n",
      "the island is shaken up by several vicious great white shark attacks right before the fourth of july , and the mayor , larry vaughn ( murray hamilton ) , doesn't want to shut down the beaches because the island is reliant on summer tourist money . \n",
      "brody is joined by matt hooper ( richard dreyfuss ) , a young , ambitious shark expert from the marine institute . \n",
      "hooper is as fascinated by the shark as he is determined to help brody stop it -- his knowledge about the exact workings of the shark ( \" it's a perfect engine , an eating machine \" ) make it that much more terrifying . \n",
      "when vaughn finally relents , hooper and brody join a crusty old shark killer named quint ( robert shaw ) on his decrepit boat , the orca , to search for the shark . \n",
      "the entire second act takes place on the orca as the three men hunt the shark , and inevitably , are hunted by it . \n",
      " \" jaws \" is a thriller with a keen sense of humor and an incredible sense of pacing , tension , and horror . \n",
      "it is like ten movies all rolled into one , and it's no wonder it took america by storm in the summer of 1975 , taking in enough money to crown it the box office champ of all time ( until it was unceremoniously dethroned in 1977 by \" star wars \" ) . \n",
      "even today , fascination with this film is on par with hitchcock's \" psycho , \" and it never seems to age . \n",
      "although grand new technology exists that makes the technical sequences , including several mechanical sharks , obsolete , none of it could improve the film because it only would lead to overkill . \n",
      "the technical limitations faced by spielberg in 1975 may have actually produced a better film because it forced him to rely on traditional cinematic elements like pacing , characterization , sharp editing , and creative photography , instead of simply dousing the audience with digital shark effects . \n",
      "scheider , dreyfuss , and shaw were known actors at the time \" jaws \" was made , but none of them had the draw of a robert redford or paul newman . \n",
      "nevertheless , this film guaranteed them all successful careers because each gave an outstanding performance and refused to be overshadowed by the shark . \n",
      "scheider hits just the right notes as a sympathetic husband and father caught in the political quagmire of doing what's right and going against the entire town . \n",
      " \" it's your first summer here , you know , \" mayor vaughn warns him . \n",
      "dreyfuss , who had previously been seen in \" american graffiti \" ( 1973 ) and \" the apprenticeship of duddy kravitz \" ( 1974 ) gives a surprisingly mature , complex performance for someone who had literally only played kids and teenagers . \n",
      "however , most outstanding is the gnarled performance by robert shaw as the movie's captain ahab , a performance sorely overlooked by the academy awards . \n",
      "bordering of parody , shaw plays quint as a grizzled old loner whose machismo borders on masochism . \n",
      "he's slightly deranged , and shaw's performance is almost a caricature . \n",
      "however , there is one scene late in the film , when he and brody and hooper are below deck on the orca comparing scars . \n",
      "quint is drawn into telling the story of his experiences aboard the u . s . s . \n",
      "indianapolis , a navy ship in world war ii that was sunk by the japanese . \n",
      "his tale of floating in the water for more than a week with over 1 , 000 other men while swarms of sharks slowly devoured them them is actually more hair-raising than anything spielberg put on screen . \n",
      "shaw delivers the story in one long take , and it is the best acting in the film . \n",
      "of course , we can't leave out the shark itself ; with its black eyes , endless rows of teeth , and insatiable urge to eat , it is basically the epitome of all mankind's fears about what is unknown and threatening in nature . \n",
      "a shark is such a perfect nemesis it is real -- having survived sinch the dinosaurs , great whites do exist , they can be as large as the shark in \" jaws , \" and they are a threat . \n",
      "every one of spielberg's subjective underwater shots makes us feel queasy because lets us see how we look to the shark : a bunch of writihing , dangling , completely unprotected legs just ready to be chomped into . \n",
      "the shark in \" jaws \" was actually a combination of actual footage and five different mechanical sharks ( all nicknamed \" bruce \" by the crew ) built to be shot from different angles . \n",
      "many have forgotten , but \" jaws \" was a sort of precursor to \" waterworld \" ( 1995 ) , a movie's who soggy production and cost overruns had universal studios worried about a bomb . \n",
      "but , as we can see now , spielberg overcame all the obstacles , and delivered one of the finest primal scare-thrillers ever to come out of hollywood . \n",
      "\n",
      "pos\n"
     ]
    }
   ],
   "source": [
    "print(train_data[3])\n",
    "print(train_labels[3])"
   ]
  },
  {
   "cell_type": "markdown",
   "metadata": {},
   "source": [
    "## Preprocess the dataset"
   ]
  },
  {
   "cell_type": "markdown",
   "metadata": {},
   "source": [
    "In this exercise, we are dealing with textual data but note that our machine learning model only accepts numerical data. Thus, we have to convert this textual data into numerical data. This is known as <b> feature extraction </b>. Also, machine learning models need numerical data with fixed size vectors whereas textual data usually has variable length size. \n",
    "\n",
    "Here, we will see widely used <b> bag of words representation</b>. Let me explain this with an example.\n",
    "Consider we have two sentences.\n",
    "1- That was an awesome movie.\n",
    "2- I really appreciate your work in this movie.\n",
    "\n",
    "For bag of words representation, we have to follow following procedure:\n",
    "\n",
    "1 - tokenize\n",
    "   tokenized_words = ['that','was','an','awesome','movie','I','really','appreciate','your','work','in','this']\n",
    "   \n",
    "2 - build a vocabulary\n",
    "   - first of all, we have to count the occurrences of tokens in each document.\n",
    "   - arrange vocabs such that starting vocabs have more occurences than which come later in the set.\n",
    "   vocabs = ['movie','awesome','appreciate','work','really','I','your','an','that','in','this','was']\n",
    "   \n",
    "3 - sparse matrix encoding\n",
    "   -now we represent each sentence with a sparce array.\n",
    "   1 - [1,1,0,0,0,0,0,1,1,0,0,0]\n",
    "   2 - [1,0,1,1,1,1,1,0,0,1,1,0]\n",
    "   \n",
    "   Length of each vector will be same as length of vocabs. Here 1's in first vectors represents presence of particular word in a    sentence. For example. 1 in first vector shows word \"movie\" is present in the sentence.\n",
    "   \n",
    "We use term <b>vectorization</b> to represent the process of converting text into numerical features."
   ]
  },
  {
   "cell_type": "code",
   "execution_count": 19,
   "metadata": {
    "collapsed": true
   },
   "outputs": [],
   "source": [
    "X = [\"That was an awesome movie\",\"I really appreciate your work in this movie\"]"
   ]
  },
  {
   "cell_type": "code",
   "execution_count": 26,
   "metadata": {
    "collapsed": false
   },
   "outputs": [],
   "source": [
    "#import count vectorizer\n",
    "from sklearn.feature_extraction.text import CountVectorizer\n",
    "vectorizer = CountVectorizer()\n",
    "data = vectorizer.fit_transform(X)"
   ]
  },
  {
   "cell_type": "code",
   "execution_count": 27,
   "metadata": {
    "collapsed": false
   },
   "outputs": [
    {
     "data": {
      "text/plain": [
       "{'an': 0,\n",
       " 'appreciate': 1,\n",
       " 'awesome': 2,\n",
       " 'in': 3,\n",
       " 'movie': 4,\n",
       " 'really': 5,\n",
       " 'that': 6,\n",
       " 'this': 7,\n",
       " 'was': 8,\n",
       " 'work': 9,\n",
       " 'your': 10}"
      ]
     },
     "execution_count": 27,
     "metadata": {},
     "output_type": "execute_result"
    }
   ],
   "source": [
    "#get the vocabulary\n",
    "vectorizer.vocabulary_ # \"I\" was removed because it is one of the stopwords, that is, that doesnt contain important significance"
   ]
  },
  {
   "cell_type": "code",
   "execution_count": 30,
   "metadata": {
    "collapsed": false
   },
   "outputs": [
    {
     "data": {
      "text/plain": [
       "array([[1, 0, 1, 0, 1, 0, 1, 0, 1, 0, 0],\n",
       "       [0, 1, 0, 1, 1, 1, 0, 1, 0, 1, 1]], dtype=int64)"
      ]
     },
     "execution_count": 30,
     "metadata": {},
     "output_type": "execute_result"
    }
   ],
   "source": [
    "#transform sparce matrix into an array\n",
    "data.toarray()"
   ]
  },
  {
   "cell_type": "code",
   "execution_count": 31,
   "metadata": {
    "collapsed": false
   },
   "outputs": [
    {
     "data": {
      "text/plain": [
       "['an',\n",
       " 'appreciate',\n",
       " 'awesome',\n",
       " 'in',\n",
       " 'movie',\n",
       " 'really',\n",
       " 'that',\n",
       " 'this',\n",
       " 'was',\n",
       " 'work',\n",
       " 'your']"
      ]
     },
     "execution_count": 31,
     "metadata": {},
     "output_type": "execute_result"
    }
   ],
   "source": [
    "#print feature names\n",
    "vectorizer.get_feature_names()"
   ]
  },
  {
   "cell_type": "markdown",
   "metadata": {},
   "source": [
    "In large corpus, some words (i.e \"the\",\"i\") may occur lot of times and hence carrying little meaningful information about the contents of the document. For this reason, we use <b>tf-idf vectorizer</b>. Tf means term frequency and idf means inverse-term frequence. For more details on tf-idf and other vectorizers plese visit - <a href=\"http://scikit-learn.org/stable/modules/feature_extraction.html#text-feature-extraction\"> Feature Extraction</a>"
   ]
  },
  {
   "cell_type": "code",
   "execution_count": 45,
   "metadata": {
    "collapsed": true
   },
   "outputs": [],
   "source": [
    "#we will use tf-idf for our sentiment analysis task\n",
    "from sklearn.feature_extraction.text import TfidfVectorizer\n",
    "import random\n",
    "random.shuffle(train_data)\n",
    "random.shuffle(test_data)"
   ]
  },
  {
   "cell_type": "code",
   "execution_count": 61,
   "metadata": {
    "collapsed": true
   },
   "outputs": [],
   "source": [
    "vect = TfidfVectorizer(min_df=5,max_df = 0.8,sublinear_tf=True,use_idf=True)\n",
    "train_data_processed = vect.fit_transform(train_data)\n",
    "test_data_processed = vect.transform(test_data)"
   ]
  },
  {
   "cell_type": "markdown",
   "metadata": {},
   "source": [
    "We also need to convert our labels into numerical data. We have two possible labels- pos,neg"
   ]
  },
  {
   "cell_type": "code",
   "execution_count": 62,
   "metadata": {
    "collapsed": true
   },
   "outputs": [],
   "source": [
    "from sklearn.preprocessing import LabelEncoder\n",
    "random.shuffle(train_labels)\n",
    "random.shuffle(test_labels)"
   ]
  },
  {
   "cell_type": "code",
   "execution_count": 63,
   "metadata": {
    "collapsed": true
   },
   "outputs": [],
   "source": [
    "le = LabelEncoder()\n",
    "train_labels_processed = le.fit_transform(train_labels)\n",
    "test_labels_processed = le.transform(test_labels)"
   ]
  },
  {
   "cell_type": "code",
   "execution_count": 64,
   "metadata": {
    "collapsed": false
   },
   "outputs": [
    {
     "data": {
      "text/plain": [
       "array([1, 0, 1, 0, 1, 1, 1, 1, 1, 0, 1, 0, 0, 1, 0, 0, 0, 0, 0, 0, 1, 1, 1,\n",
       "       0, 0, 1, 0, 0, 1, 1, 0, 1, 1], dtype=int64)"
      ]
     },
     "execution_count": 64,
     "metadata": {},
     "output_type": "execute_result"
    }
   ],
   "source": [
    "train_labels_processed[:33] "
   ]
  },
  {
   "cell_type": "code",
   "execution_count": 65,
   "metadata": {
    "collapsed": false
   },
   "outputs": [
    {
     "data": {
      "text/plain": [
       "array(['neg', 'pos'], \n",
       "      dtype='<U3')"
      ]
     },
     "execution_count": 65,
     "metadata": {},
     "output_type": "execute_result"
    }
   ],
   "source": [
    "le.classes_  #0 for neg and 1 for pos"
   ]
  },
  {
   "cell_type": "markdown",
   "metadata": {},
   "source": [
    "## Train a model"
   ]
  },
  {
   "cell_type": "code",
   "execution_count": 77,
   "metadata": {
    "collapsed": false
   },
   "outputs": [
    {
     "data": {
      "text/plain": [
       "SVC(C=10, cache_size=200, class_weight=None, coef0=0.0,\n",
       "  decision_function_shape=None, degree=3, gamma='auto', kernel='rbf',\n",
       "  max_iter=-1, probability=False, random_state=None, shrinking=True,\n",
       "  tol=0.001, verbose=False)"
      ]
     },
     "execution_count": 77,
     "metadata": {},
     "output_type": "execute_result"
    }
   ],
   "source": [
    "from sklearn.svm import SVC\n",
    "model = SVC(C=10, kernel=\"rbf\")\n",
    "#train\n",
    "model.fit(train_data_processed, train_labels_processed)"
   ]
  },
  {
   "cell_type": "code",
   "execution_count": 78,
   "metadata": {
    "collapsed": false
   },
   "outputs": [
    {
     "data": {
      "text/plain": [
       "0.51500000000000001"
      ]
     },
     "execution_count": 78,
     "metadata": {},
     "output_type": "execute_result"
    }
   ],
   "source": [
    "model.score(test_data_processed, test_labels_processed)"
   ]
  },
  {
   "cell_type": "code",
   "execution_count": 71,
   "metadata": {
    "collapsed": false
   },
   "outputs": [
    {
     "data": {
      "text/plain": [
       "<1800x12495 sparse matrix of type '<class 'numpy.float64'>'\n",
       "\twith 508468 stored elements in Compressed Sparse Row format>"
      ]
     },
     "execution_count": 71,
     "metadata": {},
     "output_type": "execute_result"
    }
   ],
   "source": [
    "train_data_processed"
   ]
  },
  {
   "cell_type": "code",
   "execution_count": null,
   "metadata": {
    "collapsed": true
   },
   "outputs": [],
   "source": []
  },
  {
   "cell_type": "code",
   "execution_count": null,
   "metadata": {
    "collapsed": false
   },
   "outputs": [],
   "source": []
  },
  {
   "cell_type": "code",
   "execution_count": 79,
   "metadata": {
    "collapsed": false
   },
   "outputs": [],
   "source": [
    "from sklearn.ensemble import RandomForestClassifier"
   ]
  },
  {
   "cell_type": "code",
   "execution_count": 81,
   "metadata": {
    "collapsed": false
   },
   "outputs": [
    {
     "data": {
      "text/plain": [
       "RandomForestClassifier(bootstrap=True, class_weight=None, criterion='gini',\n",
       "            max_depth=None, max_features='auto', max_leaf_nodes=None,\n",
       "            min_impurity_split=1e-07, min_samples_leaf=1,\n",
       "            min_samples_split=2, min_weight_fraction_leaf=0.0,\n",
       "            n_estimators=10, n_jobs=1, oob_score=False, random_state=None,\n",
       "            verbose=0, warm_start=False)"
      ]
     },
     "execution_count": 81,
     "metadata": {},
     "output_type": "execute_result"
    }
   ],
   "source": [
    "m = RandomForestClassifier()\n",
    "m.fit(train_data_processed, train_labels_processed)"
   ]
  },
  {
   "cell_type": "code",
   "execution_count": 82,
   "metadata": {
    "collapsed": false
   },
   "outputs": [
    {
     "data": {
      "text/plain": [
       "0.52500000000000002"
      ]
     },
     "execution_count": 82,
     "metadata": {},
     "output_type": "execute_result"
    }
   ],
   "source": [
    "m.score(test_data_processed, test_labels_processed)"
   ]
  },
  {
   "cell_type": "code",
   "execution_count": 87,
   "metadata": {
    "collapsed": false
   },
   "outputs": [],
   "source": [
    "x = [\"That was an awesome movie\"]\n",
    "x_p = vect.transform(x) #perform vectorization"
   ]
  },
  {
   "cell_type": "code",
   "execution_count": 88,
   "metadata": {
    "collapsed": false
   },
   "outputs": [
    {
     "data": {
      "text/plain": [
       "array([1], dtype=int64)"
      ]
     },
     "execution_count": 88,
     "metadata": {},
     "output_type": "execute_result"
    }
   ],
   "source": [
    "m.predict(x_p) #1 means positive"
   ]
  },
  {
   "cell_type": "code",
   "execution_count": 89,
   "metadata": {
    "collapsed": true
   },
   "outputs": [],
   "source": [
    "x2 = [\"That was very bad movie\"]\n",
    "x2_p = vect.transform(x2)"
   ]
  },
  {
   "cell_type": "code",
   "execution_count": 90,
   "metadata": {
    "collapsed": false
   },
   "outputs": [
    {
     "data": {
      "text/plain": [
       "array([0], dtype=int64)"
      ]
     },
     "execution_count": 90,
     "metadata": {},
     "output_type": "execute_result"
    }
   ],
   "source": [
    "m.predict(x2_p)"
   ]
  },
  {
   "cell_type": "markdown",
   "metadata": {},
   "source": [
    "Even though we got accuracy around 52, seems like it works well. "
   ]
  },
  {
   "cell_type": "code",
   "execution_count": null,
   "metadata": {
    "collapsed": true
   },
   "outputs": [],
   "source": []
  }
 ],
 "metadata": {
  "kernelspec": {
   "display_name": "Python [Root]",
   "language": "python",
   "name": "Python [Root]"
  },
  "language_info": {
   "codemirror_mode": {
    "name": "ipython",
    "version": 3
   },
   "file_extension": ".py",
   "mimetype": "text/x-python",
   "name": "python",
   "nbconvert_exporter": "python",
   "pygments_lexer": "ipython3",
   "version": "3.5.2"
  }
 },
 "nbformat": 4,
 "nbformat_minor": 0
}
